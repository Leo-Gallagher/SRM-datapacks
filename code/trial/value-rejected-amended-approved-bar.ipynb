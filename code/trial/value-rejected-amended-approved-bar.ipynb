{
 "cells": [
  {
   "cell_type": "code",
   "execution_count": 1,
   "id": "d45c331c",
   "metadata": {},
   "outputs": [],
   "source": [
    "# IMPORTS AND STANDING DATA\n",
    "import numpy as np\n",
    "import pandas as pd\n",
    "from datetime import datetime, timedelta\n",
    "import matplotlib.pyplot as plt\n",
    "import matplotlib.dates as mdates\n",
    "import matplotlib.ticker as mtick\n",
    "\n",
    "#status standing data\n",
    "current_status = pd.read_csv(r'/Users/leogallagher/Documents/FMA-Work/KRG/PFM/Code/Expenditure/srm-datapack/standing-data/standing-data-current-status.csv')\n",
    "# Which AUs belong to which ministry standing data\n",
    "au_ministry_data = pd.read_csv(r'/Users/leogallagher/Documents/FMA-Work/KRG/PFM/Code/Expenditure/srm-datapack/standing-data/standing-data-au-ministry.csv')\n",
    "#current_status.iloc[64,0]\n",
    "# Analysis date\n",
    "analysis_date = datetime(2023, 3, 1)"
   ]
  },
  {
   "cell_type": "code",
   "execution_count": 2,
   "id": "950fbad4",
   "metadata": {},
   "outputs": [],
   "source": [
    "# Import Raw Data\n",
    "df = pd.read_csv(r'/Users/leogallagher/Documents/FMA-Work/KRG/PFM/Code/Expenditure/raw-data/srm-raw-data/230301-srm-raw-data.csv', low_memory=False)"
   ]
  },
  {
   "cell_type": "code",
   "execution_count": 3,
   "id": "280a615d",
   "metadata": {},
   "outputs": [],
   "source": [
    "# Define function to remove extra characters from current state string in the raw data\n",
    "def remove_extra_chars(string):\n",
    "    return string.split(' $')[0]\n",
    "\n",
    "# Apply function to 'Current State' column\n",
    "df['Current State'] = df['Current State'].apply(remove_extra_chars)"
   ]
  },
  {
   "cell_type": "code",
   "execution_count": 4,
   "id": "425e8f49",
   "metadata": {},
   "outputs": [],
   "source": [
    "# Columns to keep immediately, filtering out the many columns that are unneeded in the raw data\n",
    "df_columns_to_keep = [\n",
    "        'Srid','Date Submitted To Mofe','Approval Number Issued At','Ministry Input Id Issued At',\n",
    "        'Ministry Id Issued At','Ministry Diwan Reviewer Action Date','Ministry Diwan Decision Maker Action Date',\n",
    "        'Entity','Account Code','Exchange Rate','Total Cost Of Line','Amended Total Cost Of Line',\n",
    "        'Savings Of Line','Total Sr Savings','Spending Team Action','Spending Team Action Date',\n",
    "        'Price Evaluation Action','Price Evaluation Action Date','Engineering Directorate Action',\n",
    "        'Engineering Directorate Action Date','Publications Directorate Action','Publications Directorate Action Date',\n",
    "        'Director Of Spending Action','Director Of Spending Action Date','Dg Pa Action','Dg Pa Action Date',\n",
    "        'Minister Of Finance Action','Minister Of Finance Action Date','Com Action','Com Action Date',\n",
    "        'Second Round Ministry Diwan Reviewer Action Date','Second Round Ministry Diwan Decision Maker Action Date',\n",
    "        'Second Round Spending Team Action Date','Second Round Director Of Spending Action Date',\n",
    "        'Second Round Dg Pa Action Date','Second Round Minister Of Finance Action Date','Second Round Com Action Date',\n",
    "        'Second Round Final Approval Date','Final Approval Date','Current State']\n",
    "df_filtered = df.loc[:, df_columns_to_keep]\n",
    "#df_filtered.head(5)"
   ]
  },
  {
   "cell_type": "code",
   "execution_count": 5,
   "id": "4a05b3f1",
   "metadata": {},
   "outputs": [],
   "source": [
    "# Create a Most Recent Action column\n",
    "#columns to include are all the columns from which the 'most recent action' could be. I.e. the most recent action\n",
    "# is the date that is most recent of the actions listed below.\n",
    "columns_to_include = [\n",
    "        'Date Submitted To Mofe','Approval Number Issued At','Ministry Input Id Issued At',\n",
    "        'Ministry Id Issued At','Ministry Diwan Reviewer Action Date','Ministry Diwan Decision Maker Action Date',\n",
    "        'Spending Team Action Date',\n",
    "        'Price Evaluation Action Date',\n",
    "        'Engineering Directorate Action Date','Publications Directorate Action Date',\n",
    "        'Director Of Spending Action Date','Dg Pa Action Date',\n",
    "        'Minister Of Finance Action Date','Com Action Date',\n",
    "        'Second Round Ministry Diwan Reviewer Action Date','Second Round Ministry Diwan Decision Maker Action Date',\n",
    "        'Second Round Spending Team Action Date','Second Round Director Of Spending Action Date',\n",
    "        'Second Round Dg Pa Action Date','Second Round Minister Of Finance Action Date',\n",
    "        'Second Round Com Action Date','Second Round Final Approval Date','Final Approval Date']\n",
    "\n",
    "df_filtered['Most Recent Action'] = df_filtered[columns_to_include].max(axis=1)\n",
    "\n",
    "# convert date_column to datetime format\n",
    "df_filtered['Most Recent Action'] = pd.to_datetime(df_filtered['Most Recent Action'], format='%Y-%m-%d %I:%M %p', errors='coerce').fillna(pd.to_datetime(df_filtered['Most Recent Action'], format='%Y-%m-%d', errors='coerce'))"
   ]
  },
  {
   "cell_type": "code",
   "execution_count": 6,
   "id": "df8e7d88",
   "metadata": {},
   "outputs": [],
   "source": [
    "# Display updated dataframe\n",
    "#df['Current State'].unique()\n",
    "\n",
    "# Merge standing data and raw data to get the status columns\n",
    "current_status['Current State'] = current_status['Current State'].str.upper()\n",
    "df_filtered['Current State'] = df_filtered['Current State'].str.upper()\n",
    "df_filtered = pd.merge(df_filtered, current_status,how='left', on='Current State')"
   ]
  },
  {
   "cell_type": "code",
   "execution_count": 7,
   "id": "76d3f3ce",
   "metadata": {},
   "outputs": [],
   "source": [
    "# ADD STATUS COLUMN\n",
    "def final_status(row):\n",
    "    if row['Current State'] == \"REVOKED\" and row['Date Submitted To Mofe'] == \"-\":\n",
    "        \n",
    "        return \"Not Submitted\"\n",
    "    \n",
    "    elif row['Current State'] == \"REVOKED\" and row['Final Approval Date'] != \"-\":\n",
    "        if row['Minister Of Finance Action'] == \"Approved By Minister Of Finance\" or row['Minister Of Finance Action'] == \"Amended and Approved By Minister Of Finance\" or  row['Minister Of Finance Action'] == \"Pending Tender\":\n",
    "                \n",
    "            return \"Revoked After Approval\"\n",
    "        \n",
    "        elif row['Com Action'] == \"Approved By Council Of Ministers\" or row['Com Action'] == \"Amended And Approved By Council Of Ministers\" or row['Com Action'] == \"Pending Tender By Council Of Ministers\":\n",
    "                \n",
    "            return \"Revoked After Approval\"\n",
    "        \n",
    "        elif row['Minister Of Finance Action'] == \"Rejected By Minister Of Finance\" or row['Com Action'] == \"Rejected By Council Of Ministers\":\n",
    "                \n",
    "            return \"Revoked After Rejection\"\n",
    "        \n",
    "    elif row['Status'] == 'In process':\n",
    "        return 'In Process'\n",
    "    \n",
    "    elif row['Status'] == 'Not submitted':\n",
    "        return 'Not Submitted'\n",
    "    \n",
    "    elif row['Status'] == 'Revoked':\n",
    "        return 'Revoked'\n",
    "    \n",
    "    elif row['Status'] == 'Rejected':\n",
    "        return 'Rejected'\n",
    "    \n",
    "    elif row['Status'] == 'Approved':\n",
    "        if row['Total Sr Savings'] == 0:\n",
    "            return 'Approved'\n",
    "        else:\n",
    "            return 'Amended'\n",
    "    else:\n",
    "        return np.nan\n",
    "    \n",
    "df_filtered['Final Status'] = df_filtered.apply(final_status, axis=1)"
   ]
  },
  {
   "cell_type": "code",
   "execution_count": 8,
   "id": "a49fe4d4",
   "metadata": {},
   "outputs": [],
   "source": [
    "# Replace '-' values with zeros in the 'Savings Of Line' column and blanks in the exchange rate column\n",
    "# same for amended total cost of line, and total cost of line. and exchange rate remove na's\n",
    "\n",
    "df_filtered['Savings Of Line'] = df_filtered['Savings Of Line'].replace('-', 0).fillna(0)\n",
    "df_filtered['Amended Total Cost Of Line'] = df_filtered['Amended Total Cost Of Line'].replace('-', 0).fillna(0)\n",
    "df_filtered['Total Cost Of Line'] = df_filtered['Total Cost Of Line'].replace('-', 0).fillna(0)\n",
    "df_filtered['Exchange Rate'] = df_filtered['Exchange Rate'].fillna(0)\n",
    "\n",
    "# Convert the 'Savings Of Line' column to float type\n",
    "df_filtered['Savings Of Line'] = df_filtered['Savings Of Line'].astype(float)\n",
    "# Convert the 'Amended Total Cost Of Line' column to float type\n",
    "df_filtered['Amended Total Cost Of Line'] = df_filtered['Amended Total Cost Of Line'].astype(float)\n",
    "# Convert the 'Savings Of Line' column to float type\n",
    "df_filtered['Total Cost Of Line'] = df_filtered['Total Cost Of Line'].astype(float)"
   ]
  },
  {
   "cell_type": "code",
   "execution_count": 9,
   "id": "b4f0428a",
   "metadata": {},
   "outputs": [],
   "source": [
    "### ADD 'LINE ITEM SAVINGS IQD'\n",
    "df_filtered['Line Item Savings IQD'] = df_filtered.apply(lambda row:\n",
    "                                                         row['Exchange Rate'] * row['Savings Of Line'], axis=1)\n",
    "### ADD 'Amended Line Item IQD'\n",
    "df_filtered['Amended Line Item IQD'] = df_filtered.apply(lambda row:\n",
    "                                                         row['Exchange Rate'] * row['Amended Total Cost Of Line'], axis=1)\n",
    "### Add 'Original Line Item IQD'\n",
    "df_filtered['Original Line Item IQD'] = df_filtered.apply(lambda row:\n",
    "                                                         row['Exchange Rate'] * row['Total Cost Of Line'], axis=1)\n",
    "### ADD 'Original Total Cost of SR'\n",
    "\n",
    "# Group the rows of the DataFrame by the values in 'Srid',\n",
    "# and calculate the sum of 'Original Line Item IQD' for each group\n",
    "sum_original = df_filtered.groupby('Srid')['Original Line Item IQD'].sum()\n",
    "\n",
    "# Create a new column 'Original Total Cost of SR' with the calculated values\n",
    "df_filtered['Original Total Cost of SR'] = df_filtered['Srid'].map(sum_original)"
   ]
  },
  {
   "cell_type": "markdown",
   "id": "a21b7af4",
   "metadata": {},
   "source": [
    "# Code to make the table for the graph"
   ]
  },
  {
   "cell_type": "code",
   "execution_count": 11,
   "id": "90292c68",
   "metadata": {},
   "outputs": [
    {
     "data": {
      "text/plain": [
       "Index(['Srid', 'Date Submitted To Mofe', 'Approval Number Issued At',\n",
       "       'Ministry Input Id Issued At', 'Ministry Id Issued At',\n",
       "       'Ministry Diwan Reviewer Action Date',\n",
       "       'Ministry Diwan Decision Maker Action Date', 'Entity', 'Account Code',\n",
       "       'Exchange Rate', 'Total Cost Of Line', 'Amended Total Cost Of Line',\n",
       "       'Savings Of Line', 'Total Sr Savings', 'Spending Team Action',\n",
       "       'Spending Team Action Date', 'Price Evaluation Action',\n",
       "       'Price Evaluation Action Date', 'Engineering Directorate Action',\n",
       "       'Engineering Directorate Action Date',\n",
       "       'Publications Directorate Action',\n",
       "       'Publications Directorate Action Date', 'Director Of Spending Action',\n",
       "       'Director Of Spending Action Date', 'Dg Pa Action', 'Dg Pa Action Date',\n",
       "       'Minister Of Finance Action', 'Minister Of Finance Action Date',\n",
       "       'Com Action', 'Com Action Date',\n",
       "       'Second Round Ministry Diwan Reviewer Action Date',\n",
       "       'Second Round Ministry Diwan Decision Maker Action Date',\n",
       "       'Second Round Spending Team Action Date',\n",
       "       'Second Round Director Of Spending Action Date',\n",
       "       'Second Round Dg Pa Action Date',\n",
       "       'Second Round Minister Of Finance Action Date',\n",
       "       'Second Round Com Action Date', 'Second Round Final Approval Date',\n",
       "       'Final Approval Date', 'Current State', 'Most Recent Action',\n",
       "       'User Currently With', 'Status', 'Status (Updated)', 'Final Status',\n",
       "       'Line Item Savings IQD', 'Amended Line Item IQD',\n",
       "       'Original Line Item IQD', 'Original Total Cost of SR'],\n",
       "      dtype='object')"
      ]
     },
     "execution_count": 11,
     "metadata": {},
     "output_type": "execute_result"
    }
   ],
   "source": [
    "df_filtered.columns\n"
   ]
  },
  {
   "cell_type": "code",
   "execution_count": 17,
   "id": "0bcb4310",
   "metadata": {},
   "outputs": [
    {
     "name": "stderr",
     "output_type": "stream",
     "text": [
      "/var/folders/4k/snk4vz6j1ylg55j18vmzq7dc0000gn/T/ipykernel_43209/441444356.py:7: FutureWarning: Value based partial slicing on non-monotonic DatetimeIndexes with non-existing keys is deprecated and will raise a KeyError in a future Version.\n",
      "  val_stat_bar_df['2022-06-01':'2023-03-01']\n"
     ]
    },
    {
     "data": {
      "text/html": [
       "<div>\n",
       "<style scoped>\n",
       "    .dataframe tbody tr th:only-of-type {\n",
       "        vertical-align: middle;\n",
       "    }\n",
       "\n",
       "    .dataframe tbody tr th {\n",
       "        vertical-align: top;\n",
       "    }\n",
       "\n",
       "    .dataframe thead th {\n",
       "        text-align: right;\n",
       "    }\n",
       "</style>\n",
       "<table border=\"1\" class=\"dataframe\">\n",
       "  <thead>\n",
       "    <tr style=\"text-align: right;\">\n",
       "      <th></th>\n",
       "      <th>Srid</th>\n",
       "      <th>Date Submitted To Mofe</th>\n",
       "      <th>Final Status</th>\n",
       "      <th>Line Item Savings IQD</th>\n",
       "      <th>Amended Line Item IQD</th>\n",
       "    </tr>\n",
       "    <tr>\n",
       "      <th>Most Recent Action</th>\n",
       "      <th></th>\n",
       "      <th></th>\n",
       "      <th></th>\n",
       "      <th></th>\n",
       "      <th></th>\n",
       "    </tr>\n",
       "  </thead>\n",
       "  <tbody>\n",
       "    <tr>\n",
       "      <th>2022-10-30 11:02:00</th>\n",
       "      <td>SRID-147</td>\n",
       "      <td>-</td>\n",
       "      <td>In Process</td>\n",
       "      <td>0.0</td>\n",
       "      <td>0.0</td>\n",
       "    </tr>\n",
       "    <tr>\n",
       "      <th>2022-08-07 00:00:00</th>\n",
       "      <td>SRID-460</td>\n",
       "      <td>2020-09-27 03:04 pm</td>\n",
       "      <td>Approved</td>\n",
       "      <td>0.0</td>\n",
       "      <td>375000000.0</td>\n",
       "    </tr>\n",
       "    <tr>\n",
       "      <th>2022-08-07 00:00:00</th>\n",
       "      <td>SRID-460</td>\n",
       "      <td>2020-09-27 03:04 pm</td>\n",
       "      <td>Approved</td>\n",
       "      <td>0.0</td>\n",
       "      <td>375000000.0</td>\n",
       "    </tr>\n",
       "    <tr>\n",
       "      <th>2022-08-21 12:00:00</th>\n",
       "      <td>SRID-499</td>\n",
       "      <td>2021-06-27 03:08 pm</td>\n",
       "      <td>In Process</td>\n",
       "      <td>0.0</td>\n",
       "      <td>1277500.0</td>\n",
       "    </tr>\n",
       "    <tr>\n",
       "      <th>2022-10-30 11:03:00</th>\n",
       "      <td>SRID-522</td>\n",
       "      <td>-</td>\n",
       "      <td>In Process</td>\n",
       "      <td>0.0</td>\n",
       "      <td>4900000.0</td>\n",
       "    </tr>\n",
       "    <tr>\n",
       "      <th>...</th>\n",
       "      <td>...</td>\n",
       "      <td>...</td>\n",
       "      <td>...</td>\n",
       "      <td>...</td>\n",
       "      <td>...</td>\n",
       "    </tr>\n",
       "    <tr>\n",
       "      <th>2023-03-01 10:33:00</th>\n",
       "      <td>SRID-25889</td>\n",
       "      <td>-</td>\n",
       "      <td>In Process</td>\n",
       "      <td>0.0</td>\n",
       "      <td>500000.0</td>\n",
       "    </tr>\n",
       "    <tr>\n",
       "      <th>2023-03-01 10:33:00</th>\n",
       "      <td>SRID-25889</td>\n",
       "      <td>-</td>\n",
       "      <td>In Process</td>\n",
       "      <td>0.0</td>\n",
       "      <td>2000000.0</td>\n",
       "    </tr>\n",
       "    <tr>\n",
       "      <th>2023-03-01 10:33:00</th>\n",
       "      <td>SRID-25889</td>\n",
       "      <td>-</td>\n",
       "      <td>In Process</td>\n",
       "      <td>0.0</td>\n",
       "      <td>5000000.0</td>\n",
       "    </tr>\n",
       "    <tr>\n",
       "      <th>2023-03-01 10:33:00</th>\n",
       "      <td>SRID-25889</td>\n",
       "      <td>-</td>\n",
       "      <td>In Process</td>\n",
       "      <td>0.0</td>\n",
       "      <td>1600000.0</td>\n",
       "    </tr>\n",
       "    <tr>\n",
       "      <th>2023-02-28 18:59:00</th>\n",
       "      <td>SRID-25929</td>\n",
       "      <td>-</td>\n",
       "      <td>In Process</td>\n",
       "      <td>0.0</td>\n",
       "      <td>8210000.0</td>\n",
       "    </tr>\n",
       "  </tbody>\n",
       "</table>\n",
       "<p>60557 rows × 5 columns</p>\n",
       "</div>"
      ],
      "text/plain": [
       "                           Srid Date Submitted To Mofe Final Status  \\\n",
       "Most Recent Action                                                    \n",
       "2022-10-30 11:02:00    SRID-147                      -   In Process   \n",
       "2022-08-07 00:00:00    SRID-460    2020-09-27 03:04 pm     Approved   \n",
       "2022-08-07 00:00:00    SRID-460    2020-09-27 03:04 pm     Approved   \n",
       "2022-08-21 12:00:00    SRID-499    2021-06-27 03:08 pm   In Process   \n",
       "2022-10-30 11:03:00    SRID-522                      -   In Process   \n",
       "...                         ...                    ...          ...   \n",
       "2023-03-01 10:33:00  SRID-25889                      -   In Process   \n",
       "2023-03-01 10:33:00  SRID-25889                      -   In Process   \n",
       "2023-03-01 10:33:00  SRID-25889                      -   In Process   \n",
       "2023-03-01 10:33:00  SRID-25889                      -   In Process   \n",
       "2023-02-28 18:59:00  SRID-25929                      -   In Process   \n",
       "\n",
       "                     Line Item Savings IQD  Amended Line Item IQD  \n",
       "Most Recent Action                                                 \n",
       "2022-10-30 11:02:00                    0.0                    0.0  \n",
       "2022-08-07 00:00:00                    0.0            375000000.0  \n",
       "2022-08-07 00:00:00                    0.0            375000000.0  \n",
       "2022-08-21 12:00:00                    0.0              1277500.0  \n",
       "2022-10-30 11:03:00                    0.0              4900000.0  \n",
       "...                                    ...                    ...  \n",
       "2023-03-01 10:33:00                    0.0               500000.0  \n",
       "2023-03-01 10:33:00                    0.0              2000000.0  \n",
       "2023-03-01 10:33:00                    0.0              5000000.0  \n",
       "2023-03-01 10:33:00                    0.0              1600000.0  \n",
       "2023-02-28 18:59:00                    0.0              8210000.0  \n",
       "\n",
       "[60557 rows x 5 columns]"
      ]
     },
     "execution_count": 17,
     "metadata": {},
     "output_type": "execute_result"
    }
   ],
   "source": [
    "# Filter unnecessary rows\n",
    "keep_cols = [\n",
    "    'Srid', 'Date Submitted To Mofe',\n",
    "    'Most Recent Action', 'Final Status',\n",
    "       'Line Item Savings IQD', 'Amended Line Item IQD']\n",
    "val_stat_bar_df = df_filtered.loc[:,keep_cols].set_index('Most Recent Action')\n",
    "val_stat_bar_df['2022-06-01':'2023-03-01']"
   ]
  },
  {
   "cell_type": "code",
   "execution_count": 19,
   "id": "568eece5",
   "metadata": {},
   "outputs": [
    {
     "data": {
      "text/plain": [
       "Index(['Srid', 'Date Submitted To Mofe', 'Final Status',\n",
       "       'Line Item Savings IQD', 'Amended Line Item IQD'],\n",
       "      dtype='object')"
      ]
     },
     "execution_count": 19,
     "metadata": {},
     "output_type": "execute_result"
    }
   ],
   "source": [
    "val_stat_bar_df.columns\n"
   ]
  },
  {
   "cell_type": "code",
   "execution_count": 87,
   "id": "3660db65",
   "metadata": {},
   "outputs": [],
   "source": [
    "# Approved DF\n",
    "# create a list of final status values to filter on\n",
    "final_status_list = ['Approved', 'Amended', 'Revoked After Approval']\n",
    "# filter the dataframe using the isin() method\n",
    "approved_df = val_stat_bar_df[val_stat_bar_df['Final Status'].isin(final_status_list)].loc[:,['Line Item Savings IQD','Amended Line Item IQD']].resample('M').sum()\n",
    "\n",
    "# Amended df\n",
    "amended_df = val_stat_bar_df[val_stat_bar_df['Final Status'] == 'Amended'].loc[:,['Line Item Savings IQD','Amended Line Item IQD']].resample('M').sum()\n",
    "\n",
    "# Rejected df\n",
    "rejected_df = val_stat_bar_df[val_stat_bar_df['Final Status'] == 'Rejected'].loc[:,['Line Item Savings IQD','Amended Line Item IQD']].resample('M').sum()\n",
    "\n"
   ]
  },
  {
   "cell_type": "code",
   "execution_count": 88,
   "id": "64b58d58",
   "metadata": {},
   "outputs": [],
   "source": [
    "approved_df = approved_df['2022-06-01':'2023-06-01']\n",
    "amended_df = amended_df['2022-06-01':'2023-06-01']\n",
    "rejected_df = rejected_df['2022-06-01':'2023-06-01']\n"
   ]
  },
  {
   "cell_type": "code",
   "execution_count": 92,
   "id": "6a8a6a04",
   "metadata": {},
   "outputs": [
    {
     "data": {
      "text/plain": [
       "dtype('float64')"
      ]
     },
     "execution_count": 92,
     "metadata": {},
     "output_type": "execute_result"
    }
   ],
   "source": [
    "rejected_df['Amended Line Item IQD'].dtype"
   ]
  },
  {
   "cell_type": "code",
   "execution_count": 108,
   "id": "a9c94595",
   "metadata": {},
   "outputs": [],
   "source": [
    "#months = approved_df.index.to_period('m').astype('str')\n",
    "\n",
    "months = ['Jun', 'Jul', 'Aug', 'Sep','Oct','Nov','Dec','Jan','Feb']\n",
    "\n",
    "sub_data = {'Approved': approved_df['Amended Line Item IQD'],\n",
    "           'Savings from Amendments': amended_df['Line Item Savings IQD'] ,\n",
    "           'Rejected': rejected_df['Amended Line Item IQD']\n",
    "           }"
   ]
  },
  {
   "cell_type": "code",
   "execution_count": 82,
   "id": "ac8b55ce",
   "metadata": {},
   "outputs": [
    {
     "data": {
      "text/plain": [
       "PeriodIndex(['2022-06', '2022-07', '2022-08', '2022-09', '2022-10', '2022-11',\n",
       "             '2022-12', '2023-01', '2023-02'],\n",
       "            dtype='period[M]', name='Most Recent Action')"
      ]
     },
     "execution_count": 82,
     "metadata": {},
     "output_type": "execute_result"
    }
   ],
   "source": [
    "rejected_df.index"
   ]
  },
  {
   "cell_type": "markdown",
   "id": "ea708280",
   "metadata": {},
   "source": [
    "# Plot the bar chart"
   ]
  },
  {
   "cell_type": "code",
   "execution_count": 120,
   "id": "233903a3",
   "metadata": {},
   "outputs": [
    {
     "data": {
      "image/png": "[encoded data removed]",
      "text/plain": [
       "<Figure size 640x480 with 1 Axes>"
      ]
     },
     "metadata": {},
     "output_type": "display_data"
    }
   ],
   "source": [
    "# Define the style\n",
    "plt.style.use('fivethirtyeight')\n",
    "\n",
    "# Define the first bar chart\n",
    "\n",
    "width = 0.9\n",
    "\n",
    "colors = ['#a58b4280','#dfd8b880','#000000']\n",
    "fig, ax = plt.subplots()\n",
    "bottom = np.zeros(9)\n",
    "\n",
    "for i, (boolean, sub_datap) in enumerate(sub_data.items()):\n",
    "    p = ax.bar(months, sub_datap, width, label=boolean, bottom=bottom, color=colors[i],alpha=1)\n",
    "    bottom += sub_datap\n",
    "    \n",
    "\n",
    "ax.set_title(\"Values Approved, Saved through Amendments and Rejected by Month (2022-23)\")\n",
    "ax.set_xlabel('Month')\n",
    "ax.set_ylabel('Value')\n",
    "ax.legend(loc=\"upper right\")\n",
    "\n",
    "# Format y-axis ticks\n",
    "fmt = lambda x, pos: f'{x / 1e9:.0f} bn'\n",
    "ax.yaxis.set_major_formatter(mtick.FuncFormatter(fmt))\n",
    "\n",
    "plt.show()"
   ]
  }
 ],
 "metadata": {
  "kernelspec": {
   "display_name": "Python 3 (ipykernel)",
   "language": "python",
   "name": "python3"
  },
  "language_info": {
   "codemirror_mode": {
    "name": "ipython",
    "version": 3
   },
   "file_extension": ".py",
   "mimetype": "text/x-python",
   "name": "python",
   "nbconvert_exporter": "python",
   "pygments_lexer": "ipython3",
   "version": "3.11.2"
  }
 },
 "nbformat": 4,
 "nbformat_minor": 5
}
