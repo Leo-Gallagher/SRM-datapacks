{
 "cells": [
  {
   "cell_type": "markdown",
   "id": "b841d216",
   "metadata": {},
   "source": [
    "# SR Volume by Status (YTD)\n",
    "\n",
    "This notebook processes the SRM raw data as required and produces the graph for the SR volume by status, as used in the SRM datapack.\n",
    "\n",
    "## Steps\n",
    "\n",
    "1. Upload current status standing data and raw data\n",
    "2. Keep necessary columns, remove the unnecessary ones from raw data\n",
    "3. Create \"Most Recent Action Column\" and append to raw data\n",
    "4. Merge raw-data with standing data\n",
    "5. Add status column\n",
    "6. Make graph\n"
   ]
  },
  {
   "cell_type": "code",
   "execution_count": 30,
   "id": "5dd73e61",
   "metadata": {},
   "outputs": [
    {
     "data": {
      "text/html": [
       "<div>\n",
       "<style scoped>\n",
       "    .dataframe tbody tr th:only-of-type {\n",
       "        vertical-align: middle;\n",
       "    }\n",
       "\n",
       "    .dataframe tbody tr th {\n",
       "        vertical-align: top;\n",
       "    }\n",
       "\n",
       "    .dataframe thead th {\n",
       "        text-align: right;\n",
       "    }\n",
       "</style>\n",
       "<table border=\"1\" class=\"dataframe\">\n",
       "  <thead>\n",
       "    <tr style=\"text-align: right;\">\n",
       "      <th></th>\n",
       "      <th>Current State</th>\n",
       "      <th>User Currently With</th>\n",
       "      <th>Status</th>\n",
       "      <th>Status (Updated)</th>\n",
       "    </tr>\n",
       "  </thead>\n",
       "  <tbody>\n",
       "    <tr>\n",
       "      <th>0</th>\n",
       "      <td>Saved</td>\n",
       "      <td>NaN</td>\n",
       "      <td>Not submitted</td>\n",
       "      <td>SR Created - Accounting unit</td>\n",
       "    </tr>\n",
       "    <tr>\n",
       "      <th>1</th>\n",
       "      <td>Sent to Spending Team Secretary</td>\n",
       "      <td>Spending Team Secretary (Start)</td>\n",
       "      <td>In process</td>\n",
       "      <td>Under Review - GDPA</td>\n",
       "    </tr>\n",
       "    <tr>\n",
       "      <th>2</th>\n",
       "      <td>Revoked</td>\n",
       "      <td>Ministry</td>\n",
       "      <td>Revoked</td>\n",
       "      <td>Revoked - AU</td>\n",
       "    </tr>\n",
       "    <tr>\n",
       "      <th>3</th>\n",
       "      <td>Approval No Issued</td>\n",
       "      <td>Ministry - Approved</td>\n",
       "      <td>Approved</td>\n",
       "      <td>Approved - Inactive</td>\n",
       "    </tr>\n",
       "    <tr>\n",
       "      <th>4</th>\n",
       "      <td>Output ID issued</td>\n",
       "      <td>Ministry - Rejected</td>\n",
       "      <td>Rejected</td>\n",
       "      <td>Rejected - Inactive</td>\n",
       "    </tr>\n",
       "  </tbody>\n",
       "</table>\n",
       "</div>"
      ],
      "text/plain": [
       "                     Current State              User Currently With  \\\n",
       "0                            Saved                              NaN   \n",
       "1  Sent to Spending Team Secretary  Spending Team Secretary (Start)   \n",
       "2                          Revoked                         Ministry   \n",
       "3               Approval No Issued              Ministry - Approved   \n",
       "4                 Output ID issued              Ministry - Rejected   \n",
       "\n",
       "          Status              Status (Updated)  \n",
       "0  Not submitted  SR Created - Accounting unit  \n",
       "1     In process           Under Review - GDPA  \n",
       "2        Revoked                  Revoked - AU  \n",
       "3       Approved           Approved - Inactive  \n",
       "4       Rejected           Rejected - Inactive  "
      ]
     },
     "execution_count": 30,
     "metadata": {},
     "output_type": "execute_result"
    }
   ],
   "source": [
    "# IMPORTS AND STANDING DATA\n",
    "import numpy as np\n",
    "import pandas as pd\n",
    "from datetime import datetime, timedelta\n",
    "import matplotlib.pyplot as plt\n",
    "import matplotlib.dates as mdates\n",
    "\n",
    "#status standing data\n",
    "current_status = pd.read_csv(r'/Users/leogallagher/Documents/FMA-Work/KRG/PFM/Code/Expenditure/srm-datapack/standing-data/standing-data-current-status.csv')\n",
    "current_status.head(5)"
   ]
  },
  {
   "cell_type": "code",
   "execution_count": 31,
   "id": "91e70825",
   "metadata": {},
   "outputs": [],
   "source": [
    "# Import Raw Data and drop unneeded columns\n",
    "df = pd.read_csv(r'/Users/leogallagher/Documents/FMA-Work/KRG/PFM/Code/Expenditure/raw-data/srm-raw-data/230301-srm-raw-data.csv', low_memory=False)\n",
    "#df\n",
    "# Columns to keep immediately\n",
    "df_columns_to_keep = [\n",
    "        'Srid','Date Submitted To Mofe','Approval Number Issued At','Ministry Input Id Issued At',\n",
    "        'Ministry Id Issued At','Ministry Diwan Reviewer Action Date','Ministry Diwan Decision Maker Action Date',\n",
    "        'Entity','Account Code','Exchange Rate','Total Cost Of Line','Amended Total Cost Of Line',\n",
    "        'Savings Of Line','Total Sr Savings','Spending Team Action','Spending Team Action Date',\n",
    "        'Price Evaluation Action','Price Evaluation Action Date','Engineering Directorate Action',\n",
    "        'Engineering Directorate Action Date','Publications Directorate Action','Publications Directorate Action Date',\n",
    "        'Director Of Spending Action','Director Of Spending Action Date','Dg Pa Action','Dg Pa Action Date',\n",
    "        'Minister Of Finance Action','Minister Of Finance Action Date','Com Action','Com Action Date',\n",
    "        'Second Round Ministry Diwan Reviewer Action Date','Second Round Ministry Diwan Decision Maker Action Date',\n",
    "        'Second Round Spending Team Action Date','Second Round Director Of Spending Action Date',\n",
    "        'Second Round Dg Pa Action Date','Second Round Minister Of Finance Action Date','Second Round Com Action Date',\n",
    "        'Second Round Final Approval Date','Final Approval Date','Current State']\n",
    "df_filtered = df.loc[:, df_columns_to_keep]\n",
    "#df_filtered.head(5)\n"
   ]
  },
  {
   "cell_type": "code",
   "execution_count": 32,
   "id": "f1fbd72f",
   "metadata": {},
   "outputs": [],
   "source": [
    "# Define function to remove extra characters from string\n",
    "def remove_extra_chars(string):\n",
    "    return string.split(' $')[0]\n",
    "\n",
    "# Apply function to 'Current State' column\n",
    "df['Current State'] = df['Current State'].apply(remove_extra_chars)\n",
    "\n",
    "# Display updated dataframe\n",
    "#df['Current State'].unique()"
   ]
  },
  {
   "cell_type": "code",
   "execution_count": 34,
   "id": "d4a6b8be",
   "metadata": {},
   "outputs": [],
   "source": [
    "# Create a Most Recent Action column\n",
    "columns_to_include = [\n",
    "        'Date Submitted To Mofe','Approval Number Issued At','Ministry Input Id Issued At',\n",
    "        'Ministry Id Issued At','Ministry Diwan Reviewer Action Date','Ministry Diwan Decision Maker Action Date',\n",
    "        'Spending Team Action Date',\n",
    "        'Price Evaluation Action Date',\n",
    "        'Engineering Directorate Action Date','Publications Directorate Action Date',\n",
    "        'Director Of Spending Action Date','Dg Pa Action Date',\n",
    "        'Minister Of Finance Action Date','Com Action Date',\n",
    "        'Second Round Ministry Diwan Reviewer Action Date','Second Round Ministry Diwan Decision Maker Action Date',\n",
    "        'Second Round Spending Team Action Date','Second Round Director Of Spending Action Date',\n",
    "        'Second Round Dg Pa Action Date','Second Round Minister Of Finance Action Date',\n",
    "        'Second Round Com Action Date','Second Round Final Approval Date','Final Approval Date']\n",
    "\n",
    "df_filtered['Most Recent Action'] = df_filtered[columns_to_include].max(axis=1)"
   ]
  },
  {
   "cell_type": "code",
   "execution_count": 35,
   "id": "39a3cd27",
   "metadata": {},
   "outputs": [],
   "source": [
    "\n",
    "# convert date_column to datetime format\n",
    "df_filtered['Most Recent Action'] = pd.to_datetime(df_filtered['Most Recent Action'], format='%Y-%m-%d %I:%M %p', errors='coerce').fillna(pd.to_datetime(df_filtered['Most Recent Action'], format='%Y-%m-%d', errors='coerce'))\n",
    "#df_filtered['Most Recent Action']\n"
   ]
  },
  {
   "cell_type": "markdown",
   "id": "2cfc48e5",
   "metadata": {},
   "source": []
  },
  {
   "cell_type": "code",
   "execution_count": 36,
   "id": "09cca30b",
   "metadata": {},
   "outputs": [],
   "source": [
    "# Merge standing data and raw data to get the status'\n",
    "current_status['Current State'] = current_status['Current State'].str.upper()\n",
    "df_filtered['Current State'] = df_filtered['Current State'].str.upper()\n",
    "df_filtered = pd.merge(df_filtered, current_status,how='left', on='Current State')\n",
    "#df_filtered.head(5)\n",
    "#current_status.head(10)"
   ]
  },
  {
   "cell_type": "code",
   "execution_count": 37,
   "id": "1d9c710e",
   "metadata": {},
   "outputs": [],
   "source": [
    "#ADD STATUS COLUMN\n",
    "def final_status(row):\n",
    "    if row['Current State'] == \"REVOKED\" and row['Date Submitted To Mofe'] == \"-\":\n",
    "        return \"Not Submitted\"\n",
    "    \n",
    "    elif row['Current State'] == \"REVOKED\" and row['Final Approval Date'] != \"-\":\n",
    "        if row[26] == \"Approved By Minister Of Finance\" or row[26] == \"Amended and Approved By Minister Of Finance\" or  row[26] == \"Pending Tender\":\n",
    "            return \"Revoked After Approval\"\n",
    "        \n",
    "        elif row[28] == \"Approved By Council Of Ministers\" or row[28] == \"Amended And Approved By Council Of Ministers\" or row[28] == \"Pending Tender By Council Of Ministers\":\n",
    "            return \"Revoked After Approval\"\n",
    "        \n",
    "        elif row[26] == \"Rejected By Minister Of Finance\" or row[28] == \"Rejected By Council Of Ministers\":\n",
    "            return \"Revoked After Rejection\"\n",
    "        \n",
    "    elif row[42] == 'In process':\n",
    "        return 'In Process'\n",
    "    \n",
    "    elif row[42] == 'Not submitted':\n",
    "        return 'Not Submitted'\n",
    "    \n",
    "    elif row[42] == 'Revoked':\n",
    "        return 'Revoked'\n",
    "    \n",
    "    elif row[42] == 'Rejected':\n",
    "        return 'Rejected'\n",
    "    \n",
    "    elif row[42] == 'Approved':\n",
    "        if row[13] == 0:\n",
    "            return 'Approved'\n",
    "        else:\n",
    "            return 'Amended'\n",
    "    else:\n",
    "        return np.nan\n",
    "    \n",
    "df_filtered['Final Status'] = df_filtered.apply(final_status, axis=1)"
   ]
  },
  {
   "cell_type": "markdown",
   "id": "95b1aaac",
   "metadata": {},
   "source": [
    "# Make the table for the graph below here\n"
   ]
  },
  {
   "cell_type": "code",
   "execution_count": 38,
   "id": "9b19187e",
   "metadata": {},
   "outputs": [],
   "source": [
    "# Volumes by status dataframe code\n",
    "# define the index and columns\n",
    "index = [datetime(2022,7,1),datetime(2022,8,1),datetime(2022,9,1),datetime(2022,10,1),\n",
    "         datetime(2022,11,1),datetime(2022,12,1),datetime(2023,1,1),datetime(2023,2,1),\n",
    "         datetime(2023,3,1),datetime(2023,4,1),datetime(2023,5,1),datetime(2023,6,1),\n",
    "         datetime(2023,7,1)]\n",
    "columns = ['Approved', 'Amended', 'Rejected']\n",
    "\n",
    "# create an empty dictionary to store the calculated values\n",
    "data = {}\n",
    "for col in columns:\n",
    "    data[col] = []\n",
    "\n",
    "# loop through the date range and calculate the unique sum of Srid column\n",
    "for i in range(len(index)-1):\n",
    "    start_date = index[i]\n",
    "    end_date = index[i+1]\n",
    "    for col in columns:\n",
    "        total = df_filtered[(df_filtered['Final Status'] == col) & \n",
    "                            (df_filtered['Most Recent Action'] >= start_date) &\n",
    "                            (df_filtered['Most Recent Action'] < end_date)]['Srid'].nunique()\n",
    "        data[col].append(total)\n",
    "\n",
    "# create the dataframe\n",
    "volume_by_status_df = pd.DataFrame(data=data, index=index[:-1], columns=columns)\n"
   ]
  },
  {
   "cell_type": "code",
   "execution_count": 43,
   "id": "faeee5f6",
   "metadata": {
    "scrolled": true
   },
   "outputs": [
    {
     "data": {
      "image/png": "[encoded data removed]",
      "text/plain": [
       "<Figure size 1000x500 with 1 Axes>"
      ]
     },
     "metadata": {},
     "output_type": "display_data"
    }
   ],
   "source": [
    "# set the font family and size\n",
    "plt.rcParams['font.family'] = 'Times New Roman'\n",
    "plt.rcParams['font.size'] = 12\n",
    "\n",
    "# set the figure size\n",
    "fig, ax = plt.subplots(figsize=(10, 5))\n",
    "\n",
    "# slice the volume_by_status_df dataframe to exclude the last 4 rows\n",
    "volume_by_status_df_slice = volume_by_status_df.iloc[:-4]\n",
    "ax.grid(True, alpha=0.3)\n",
    "# set the line and fill colors\n",
    "line_colors = ['#3b3a37','#a58b42','#dfd8b8']\n",
    "fill_colors = ['#a58b4280','#dfd8b880','#3b3a3780']\n",
    "\n",
    "# create the stacked filled line graph with the specified colors\n",
    "plt.stackplot(volume_by_status_df_slice.index, volume_by_status_df_slice.T, labels=volume_by_status_df_slice.columns,\n",
    "              colors=fill_colors, linewidth=1.5)\n",
    "plt.title('Volume by Status',fontname='Times New Roman',fontsize=16)\n",
    "plt.xlabel('Date',fontname='Times New Roman', fontsize=14)\n",
    "plt.ylabel('Volume',fontname='Times New Roman',fontsize=14)\n",
    "plt.legend(loc='upper right')\n",
    "\n",
    "\n",
    "# set the x-axis tick formatter to display the date in \"mmm-yy\" format\n",
    "date_fmt = mdates.DateFormatter('%b-%y')\n",
    "plt.gca().xaxis.set_major_formatter(date_fmt)\n",
    "\n",
    "# add data labels for each point in the line graph\n",
    "\n",
    "#for col in volume_by_status_df_slice.columns:\n",
    "#    for i, y in enumerate(volume_by_status_df_slice[col]):\n",
    "#        if not np.isnan(y):\n",
    "#            plt.text(volume_by_status_df_slice.index[i], y, int(y), ha='center', va='top')\n",
    "\n",
    "# display the graph\n",
    "plt.show()"
   ]
  },
  {
   "cell_type": "code",
   "execution_count": 28,
   "id": "58cf7ac2",
   "metadata": {},
   "outputs": [
    {
     "name": "stdout",
     "output_type": "stream",
     "text": [
      "2022-07-01 00:00:00\n",
      "2022-08-01 00:00:00\n",
      "2022-09-01 00:00:00\n",
      "2022-10-01 00:00:00\n",
      "2022-11-01 00:00:00\n",
      "2022-12-01 00:00:00\n",
      "2023-01-01 00:00:00\n",
      "2023-02-01 00:00:00\n",
      "2022-07-01 00:00:00\n",
      "2022-08-01 00:00:00\n",
      "2022-09-01 00:00:00\n",
      "2022-10-01 00:00:00\n",
      "2022-11-01 00:00:00\n",
      "2022-12-01 00:00:00\n",
      "2023-01-01 00:00:00\n",
      "2023-02-01 00:00:00\n",
      "2022-07-01 00:00:00\n",
      "2022-08-01 00:00:00\n",
      "2022-09-01 00:00:00\n",
      "2022-10-01 00:00:00\n",
      "2022-11-01 00:00:00\n",
      "2022-12-01 00:00:00\n",
      "2023-01-01 00:00:00\n",
      "2023-02-01 00:00:00\n"
     ]
    }
   ],
   "source": [
    "for col in volume_by_status_df_slice.columns:\n",
    "    for i, y in enumerate(volume_by_status_df_slice[col]):\n",
    "        if not np.isnan(y):\n",
    "            print(str(volume_by_status_df_slice.index[i]))"
   ]
  }
 ],
 "metadata": {
  "kernelspec": {
   "display_name": "Python 3 (ipykernel)",
   "language": "python",
   "name": "python3"
  },
  "language_info": {
   "codemirror_mode": {
    "name": "ipython",
    "version": 3
   },
   "file_extension": ".py",
   "mimetype": "text/x-python",
   "name": "python",
   "nbconvert_exporter": "python",
   "pygments_lexer": "ipython3",
   "version": "3.11.2"
  }
 },
 "nbformat": 4,
 "nbformat_minor": 5
}
