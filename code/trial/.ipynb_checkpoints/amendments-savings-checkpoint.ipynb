{
 "cells": [
  {
   "cell_type": "code",
   "execution_count": 1,
   "id": "985049dd",
   "metadata": {},
   "outputs": [],
   "source": [
    "# IMPORTS AND STANDING DATA\n",
    "import numpy as np\n",
    "import pandas as pd\n",
    "from datetime import datetime, timedelta\n",
    "import matplotlib.pyplot as plt\n",
    "import matplotlib.dates as mdates\n",
    "import matplotlib.ticker as mtick\n",
    "\n",
    "#status standing data\n",
    "current_status = pd.read_csv(r'/Users/leogallagher/Documents/FMA-Work/KRG/PFM/Code/Expenditure/srm-datapack/standing-data/standing-data-current-status.csv')\n",
    "# Which AUs belong to which ministry standing data\n",
    "au_ministry_data = pd.read_csv(r'/Users/leogallagher/Documents/FMA-Work/KRG/PFM/Code/Expenditure/srm-datapack/standing-data/standing-data-au-ministry.csv')\n",
    "#current_status.iloc[64,0]\n",
    "# Analysis date\n",
    "analysis_date = datetime(2023, 3, 1)\n"
   ]
  },
  {
   "cell_type": "code",
   "execution_count": 2,
   "id": "a9f85366",
   "metadata": {},
   "outputs": [],
   "source": [
    "# Import Raw Data\n",
    "df = pd.read_csv(r'/Users/leogallagher/Documents/FMA-Work/KRG/PFM/Code/Expenditure/raw-data/srm-raw-data/230301-srm-raw-data.csv', low_memory=False)"
   ]
  },
  {
   "cell_type": "code",
   "execution_count": 3,
   "id": "af9e042f",
   "metadata": {},
   "outputs": [],
   "source": [
    "# Define function to remove extra characters from current state string in the raw data\n",
    "def remove_extra_chars(string):\n",
    "    return string.split(' $')[0]\n",
    "\n",
    "# Apply function to 'Current State' column\n",
    "df['Current State'] = df['Current State'].apply(remove_extra_chars)"
   ]
  },
  {
   "cell_type": "code",
   "execution_count": 4,
   "id": "c76ac8fe",
   "metadata": {},
   "outputs": [],
   "source": [
    "# Columns to keep immediately, filtering out the many columns that are unneeded in the raw data\n",
    "df_columns_to_keep = [\n",
    "        'Srid','Date Submitted To Mofe','Approval Number Issued At','Ministry Input Id Issued At',\n",
    "        'Ministry Id Issued At','Ministry Diwan Reviewer Action Date','Ministry Diwan Decision Maker Action Date',\n",
    "        'Entity','Account Code','Exchange Rate','Total Cost Of Line','Amended Total Cost Of Line',\n",
    "        'Savings Of Line','Total Sr Savings','Spending Team Action','Spending Team Action Date',\n",
    "        'Price Evaluation Action','Price Evaluation Action Date','Engineering Directorate Action',\n",
    "        'Engineering Directorate Action Date','Publications Directorate Action','Publications Directorate Action Date',\n",
    "        'Director Of Spending Action','Director Of Spending Action Date','Dg Pa Action','Dg Pa Action Date',\n",
    "        'Minister Of Finance Action','Minister Of Finance Action Date','Com Action','Com Action Date',\n",
    "        'Second Round Ministry Diwan Reviewer Action Date','Second Round Ministry Diwan Decision Maker Action Date',\n",
    "        'Second Round Spending Team Action Date','Second Round Director Of Spending Action Date',\n",
    "        'Second Round Dg Pa Action Date','Second Round Minister Of Finance Action Date','Second Round Com Action Date',\n",
    "        'Second Round Final Approval Date','Final Approval Date','Current State']\n",
    "df_filtered = df.loc[:, df_columns_to_keep]\n",
    "#df_filtered.head(5)"
   ]
  },
  {
   "cell_type": "code",
   "execution_count": 5,
   "id": "6c9e3bb4",
   "metadata": {},
   "outputs": [],
   "source": [
    "# Create a Most Recent Action column\n",
    "#columns to include are all the columns from which the 'most recent action' could be. I.e. the most recent action\n",
    "# is the date that is most recent of the actions listed below.\n",
    "columns_to_include = [\n",
    "        'Date Submitted To Mofe','Approval Number Issued At','Ministry Input Id Issued At',\n",
    "        'Ministry Id Issued At','Ministry Diwan Reviewer Action Date','Ministry Diwan Decision Maker Action Date',\n",
    "        'Spending Team Action Date',\n",
    "        'Price Evaluation Action Date',\n",
    "        'Engineering Directorate Action Date','Publications Directorate Action Date',\n",
    "        'Director Of Spending Action Date','Dg Pa Action Date',\n",
    "        'Minister Of Finance Action Date','Com Action Date',\n",
    "        'Second Round Ministry Diwan Reviewer Action Date','Second Round Ministry Diwan Decision Maker Action Date',\n",
    "        'Second Round Spending Team Action Date','Second Round Director Of Spending Action Date',\n",
    "        'Second Round Dg Pa Action Date','Second Round Minister Of Finance Action Date',\n",
    "        'Second Round Com Action Date','Second Round Final Approval Date','Final Approval Date']\n",
    "\n",
    "df_filtered['Most Recent Action'] = df_filtered[columns_to_include].max(axis=1)\n",
    "\n",
    "# convert date_column to datetime format\n",
    "df_filtered['Most Recent Action'] = pd.to_datetime(df_filtered['Most Recent Action'], format='%Y-%m-%d %I:%M %p', errors='coerce').fillna(pd.to_datetime(df_filtered['Most Recent Action'], format='%Y-%m-%d', errors='coerce'))\n",
    "\n",
    "#df_filtered['Most Recent Action'].isna().sum()"
   ]
  },
  {
   "cell_type": "code",
   "execution_count": 6,
   "id": "1d54595c",
   "metadata": {},
   "outputs": [],
   "source": [
    "# Display updated dataframe\n",
    "#df['Current State'].unique()\n",
    "\n",
    "# Merge standing data and raw data to get the status columns\n",
    "current_status['Current State'] = current_status['Current State'].str.upper()\n",
    "df_filtered['Current State'] = df_filtered['Current State'].str.upper()\n",
    "df_filtered = pd.merge(df_filtered, current_status,how='left', on='Current State')"
   ]
  },
  {
   "cell_type": "code",
   "execution_count": 8,
   "id": "e9b8057d",
   "metadata": {},
   "outputs": [],
   "source": [
    "# ADD STATUS COLUMN\n",
    "def final_status(row):\n",
    "    if row['Current State'] == \"REVOKED\" and row['Date Submitted To Mofe'] == \"-\":\n",
    "        \n",
    "        return \"Not Submitted\"\n",
    "    \n",
    "    elif row['Current State'] == \"REVOKED\" and row['Final Approval Date'] != \"-\":\n",
    "        if row['Minister Of Finance Action'] == \"Approved By Minister Of Finance\" or row['Minister Of Finance Action'] == \"Amended and Approved By Minister Of Finance\" or  row['Minister Of Finance Action'] == \"Pending Tender\":\n",
    "                \n",
    "            return \"Revoked After Approval\"\n",
    "        \n",
    "        elif row['Com Action'] == \"Approved By Council Of Ministers\" or row['Com Action'] == \"Amended And Approved By Council Of Ministers\" or row['Com Action'] == \"Pending Tender By Council Of Ministers\":\n",
    "                \n",
    "            return \"Revoked After Approval\"\n",
    "        \n",
    "        elif row['Minister Of Finance Action'] == \"Rejected By Minister Of Finance\" or row['Com Action'] == \"Rejected By Council Of Ministers\":\n",
    "                \n",
    "            return \"Revoked After Rejection\"\n",
    "        \n",
    "    elif row['Status'] == 'In process':\n",
    "        return 'In Process'\n",
    "    \n",
    "    elif row['Status'] == 'Not submitted':\n",
    "        return 'Not Submitted'\n",
    "    \n",
    "    elif row['Status'] == 'Revoked':\n",
    "        return 'Revoked'\n",
    "    \n",
    "    elif row['Status'] == 'Rejected':\n",
    "        return 'Rejected'\n",
    "    \n",
    "    elif row['Status'] == 'Approved':\n",
    "        if row['Total Sr Savings'] == 0:\n",
    "            return 'Approved'\n",
    "        else:\n",
    "            return 'Amended'\n",
    "    else:\n",
    "        return np.nan\n",
    "    \n",
    "df_filtered['Final Status'] = df_filtered.apply(final_status, axis=1)"
   ]
  },
  {
   "cell_type": "code",
   "execution_count": 9,
   "id": "da4358c7",
   "metadata": {},
   "outputs": [],
   "source": [
    "# ADD MINISTRY COLUMN\n",
    "df_filtered = pd.merge(df_filtered, au_ministry_data,how='left', on='Entity')\n"
   ]
  },
  {
   "cell_type": "markdown",
   "id": "16d60664",
   "metadata": {},
   "source": [
    "# THE BELOW REPLACEMENT OF EXCHANGE RATES AND SAVINGS OF LINE TO BE CHECKED.\n",
    "\n",
    "### CURRENTLY NaN'S HAVE BEEN REPLACED WITH ZEROES. THIS IS CURRENTLY UNJUSTIFIED."
   ]
  },
  {
   "cell_type": "code",
   "execution_count": 10,
   "id": "9db29c96",
   "metadata": {},
   "outputs": [],
   "source": [
    "### ADD 'LINE ITEM SAVINGS IQD' COLUMN\n",
    "# Replace '-' values with zeros in the 'Savings Of Line' column and blanks in the exchange rate column with zeros\n",
    "\n",
    "df_filtered['Savings Of Line'] = df_filtered['Savings Of Line'].replace('-', 0).fillna(0)\n",
    "df_filtered['Exchange Rate'] = df_filtered['Exchange Rate'].fillna(0)\n",
    "\n",
    "# Convert the 'Savings Of Line' column to float type\n",
    "df_filtered['Savings Of Line'] = df_filtered['Savings Of Line'].astype(float)\n",
    "\n",
    "\n",
    "\n",
    "df_filtered['Line Item Savings IQD'] = df_filtered.apply(lambda row:\n",
    "                                                         row['Exchange Rate'] * row['Savings Of Line'], axis=1)"
   ]
  },
  {
   "cell_type": "code",
   "execution_count": null,
   "id": "1f36bd2a",
   "metadata": {},
   "outputs": [],
   "source": [
    "#df_filtered"
   ]
  },
  {
   "cell_type": "markdown",
   "id": "48b08a61",
   "metadata": {},
   "source": [
    "# Code to make table for graph"
   ]
  },
  {
   "cell_type": "code",
   "execution_count": 11,
   "id": "f1ea5684",
   "metadata": {},
   "outputs": [],
   "source": [
    "df_amend_sav = df_filtered[(df_filtered['Final Status'] == 'Amended')]\n",
    "df_amend_sav = df_amend_sav[df_amend_sav['Most Recent Action'] >= analysis_date - timedelta(days=365)]\n",
    "df_amend_sav = df_amend_sav.reset_index()\n",
    "df_amend_sav = df_amend_sav[['Line Item Savings IQD', 'Ministry']]\n",
    "\n",
    "#df_amend_sav.loc[['Line Item Savings IQD', 'Ministry']]"
   ]
  },
  {
   "cell_type": "code",
   "execution_count": 12,
   "id": "0815101c",
   "metadata": {},
   "outputs": [],
   "source": [
    "df_amend_sav_plt = df_amend_sav.groupby('Ministry').sum().sort_values(by=['Line Item Savings IQD'],ascending=False)\n"
   ]
  },
  {
   "cell_type": "markdown",
   "id": "485c127b",
   "metadata": {},
   "source": [
    "# Make Graph"
   ]
  },
  {
   "cell_type": "code",
   "execution_count": 14,
   "id": "5fdf2315",
   "metadata": {},
   "outputs": [
    {
     "data": {
      "image/png": "[encoded data removed]",
      "text/plain": [
       "<Figure size 1000x600 with 1 Axes>"
      ]
     },
     "metadata": {},
     "output_type": "display_data"
    }
   ],
   "source": [
    "# Set the 'ministry' column as the index\n",
    "\n",
    "\n",
    "colors = ['#a58b4280','#dfd8b880','#3b3a3780']\n",
    "\n",
    "# Create a stacked bar chart\n",
    "ax = df_amend_sav_plt.iloc[:10].plot(kind='bar', stacked=True, figsize=(10, 6),color=colors)\n",
    "\n",
    "# Set the title and axis labels\n",
    "plt.title('Savings From Amendments for each Ministry (Last Year)')\n",
    "plt.xlabel('Ministry')\n",
    "plt.ylabel('Savings IQD')\n",
    "plt.xticks(rotation=0)\n",
    "\n",
    "# Format y-axis ticks\n",
    "fmt = lambda x, pos: f'{x / 1e9:.0f} bn'\n",
    "ax.yaxis.set_major_formatter(mtick.FuncFormatter(fmt))\n",
    "\n",
    "# Add data labels to the top of the bars\n",
    "for p in ax.containers:\n",
    "    for i in p:\n",
    "        x = i.get_x() + i.get_width() / 2\n",
    "        y = i.get_y() + i.get_height()\n",
    "        value = i.get_height()\n",
    "        ax.text(x, y, f'{value / 1e9:.1f} bn', ha='center', va='bottom')\n",
    "        \n",
    "# Show the plot\n",
    "plt.show()"
   ]
  }
 ],
 "metadata": {
  "kernelspec": {
   "display_name": "Python 3 (ipykernel)",
   "language": "python",
   "name": "python3"
  },
  "language_info": {
   "codemirror_mode": {
    "name": "ipython",
    "version": 3
   },
   "file_extension": ".py",
   "mimetype": "text/x-python",
   "name": "python",
   "nbconvert_exporter": "python",
   "pygments_lexer": "ipython3",
   "version": "3.11.2"
  }
 },
 "nbformat": 4,
 "nbformat_minor": 5
}
