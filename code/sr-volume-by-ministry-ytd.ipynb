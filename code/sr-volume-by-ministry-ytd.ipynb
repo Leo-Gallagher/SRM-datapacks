{
 "cells": [
  {
   "cell_type": "markdown",
   "id": "f11b0776",
   "metadata": {},
   "source": [
    "# SR Volume by Ministry (YTD)\n",
    "\n",
    "This notebook processes the SRM raw data as required and produces the graph for the SR volume by Ministry, as used in the SRM datapack.\n",
    "\n",
    "## Steps\n",
    "\n",
    "1. Upload current status standing data and raw data\n",
    "2. Keep necessary columns, remove the unnecessary ones from raw data\n",
    "3. Create \"Most Recent Action Column\" and append to raw data\n",
    "4. Merge raw-data with standing data\n",
    "5. Add status column\n",
    "6. Make graph\n"
   ]
  },
  {
   "cell_type": "code",
   "execution_count": 1,
   "id": "8639939f",
   "metadata": {},
   "outputs": [],
   "source": [
    "# IMPORTS AND STANDING DATA\n",
    "import numpy as np\n",
    "import pandas as pd\n",
    "from datetime import datetime, timedelta\n",
    "import matplotlib.pyplot as plt\n",
    "import matplotlib.dates as mdates\n",
    "\n",
    "#status standing data\n",
    "current_status = pd.read_csv(r'/Users/leogallagher/Documents/FMA-Work/KRG/PFM/Code/Expenditure/srm-datapack/standing-data/standing-data-current-status.csv')\n",
    "# Which AUs belong to which ministry standing data\n",
    "au_ministry_data = pd.read_csv(r'/Users/leogallagher/Documents/FMA-Work/KRG/PFM/Code/Expenditure/srm-datapack/standing-data/standing-data-au-ministry.csv')\n",
    "#current_status.iloc[64,0]\n",
    "# Analysis date\n",
    "analysis_date = datetime(2023, 3, 1)"
   ]
  },
  {
   "cell_type": "code",
   "execution_count": 2,
   "id": "e75b7924",
   "metadata": {},
   "outputs": [],
   "source": [
    "# Import Raw Data and drop unneeded columns\n",
    "df = pd.read_csv(r'/Users/leogallagher/Documents/FMA-Work/KRG/PFM/Code/Expenditure/raw-data/srm-raw-data/230301-srm-raw-data.csv', low_memory=False)"
   ]
  },
  {
   "cell_type": "code",
   "execution_count": 3,
   "id": "e9e1070b",
   "metadata": {},
   "outputs": [],
   "source": [
    "# Define function to remove extra characters from string\n",
    "def remove_extra_chars(string):\n",
    "    return string.split(' $')[0]\n",
    "\n",
    "# Apply function to 'Current State' column\n",
    "df['Current State'] = df['Current State'].apply(remove_extra_chars)\n",
    "\n",
    "# Display updated dataframe\n",
    "#df['Current State'].unique()"
   ]
  },
  {
   "cell_type": "code",
   "execution_count": 4,
   "id": "1284af36",
   "metadata": {},
   "outputs": [],
   "source": [
    "#df\n",
    "# Columns to keep immediately\n",
    "df_columns_to_keep = [\n",
    "        'Srid','Date Submitted To Mofe','Approval Number Issued At','Ministry Input Id Issued At',\n",
    "        'Ministry Id Issued At','Ministry Diwan Reviewer Action Date','Ministry Diwan Decision Maker Action Date',\n",
    "        'Entity','Account Code','Exchange Rate','Total Cost Of Line','Amended Total Cost Of Line',\n",
    "        'Savings Of Line','Total Sr Savings','Spending Team Action','Spending Team Action Date',\n",
    "        'Price Evaluation Action','Price Evaluation Action Date','Engineering Directorate Action',\n",
    "        'Engineering Directorate Action Date','Publications Directorate Action','Publications Directorate Action Date',\n",
    "        'Director Of Spending Action','Director Of Spending Action Date','Dg Pa Action','Dg Pa Action Date',\n",
    "        'Minister Of Finance Action','Minister Of Finance Action Date','Com Action','Com Action Date',\n",
    "        'Second Round Ministry Diwan Reviewer Action Date','Second Round Ministry Diwan Decision Maker Action Date',\n",
    "        'Second Round Spending Team Action Date','Second Round Director Of Spending Action Date',\n",
    "        'Second Round Dg Pa Action Date','Second Round Minister Of Finance Action Date','Second Round Com Action Date',\n",
    "        'Second Round Final Approval Date','Final Approval Date','Current State']\n",
    "df_filtered = df.loc[:, df_columns_to_keep]\n",
    "#df_filtered.head(5)"
   ]
  },
  {
   "cell_type": "code",
   "execution_count": 5,
   "id": "7d0097b6",
   "metadata": {},
   "outputs": [],
   "source": [
    "# Create a Most Recent Action column\n",
    "columns_to_include = [\n",
    "        'Date Submitted To Mofe','Approval Number Issued At','Ministry Input Id Issued At',\n",
    "        'Ministry Id Issued At','Ministry Diwan Reviewer Action Date','Ministry Diwan Decision Maker Action Date',\n",
    "        'Spending Team Action Date',\n",
    "        'Price Evaluation Action Date',\n",
    "        'Engineering Directorate Action Date','Publications Directorate Action Date',\n",
    "        'Director Of Spending Action Date','Dg Pa Action Date',\n",
    "        'Minister Of Finance Action Date','Com Action Date',\n",
    "        'Second Round Ministry Diwan Reviewer Action Date','Second Round Ministry Diwan Decision Maker Action Date',\n",
    "        'Second Round Spending Team Action Date','Second Round Director Of Spending Action Date',\n",
    "        'Second Round Dg Pa Action Date','Second Round Minister Of Finance Action Date',\n",
    "        'Second Round Com Action Date','Second Round Final Approval Date','Final Approval Date']\n",
    "\n",
    "df_filtered['Most Recent Action'] = df_filtered[columns_to_include].max(axis=1)\n",
    "\n",
    "# convert date_column to datetime format\n",
    "df_filtered['Most Recent Action'] = pd.to_datetime(df_filtered['Most Recent Action'], format='%Y-%m-%d %I:%M %p', errors='coerce').fillna(pd.to_datetime(df_filtered['Most Recent Action'], format='%Y-%m-%d', errors='coerce'))\n",
    "\n",
    "#df_filtered['Most Recent Action'].isna().sum()"
   ]
  },
  {
   "cell_type": "code",
   "execution_count": 6,
   "id": "66a1d81d",
   "metadata": {},
   "outputs": [],
   "source": [
    "# Merge standing data and raw data to get the status'\n",
    "current_status['Current State'] = current_status['Current State'].str.upper()\n",
    "df_filtered['Current State'] = df_filtered['Current State'].str.upper()\n",
    "df_filtered = pd.merge(df_filtered, current_status,how='left', on='Current State')\n"
   ]
  },
  {
   "cell_type": "code",
   "execution_count": 7,
   "id": "3543b4b9",
   "metadata": {},
   "outputs": [],
   "source": [
    "# ADD STATUS COLUMN\n",
    "def final_status(row):\n",
    "    if row['Current State'] == \"REVOKED\" and row['Date Submitted To Mofe'] == \"-\":\n",
    "        return \"Not Submitted\"\n",
    "    \n",
    "    elif row['Current State'] == \"REVOKED\" and row['Final Approval Date'] != \"-\":\n",
    "        if row['Minister Of Finance Action'] == \"Approved By Minister Of Finance\" or row['Minister Of Finance Action'] == \"Amended and Approved By Minister Of Finance\" or  row['Minister Of Finance Action'] == \"Pending Tender\":\n",
    "            return \"Revoked After Approval\"\n",
    "        \n",
    "        elif row['Com Action'] == \"Approved By Council Of Ministers\" or row['Com Action'] == \"Amended And Approved By Council Of Ministers\" or row['Com Action'] == \"Pending Tender By Council Of Ministers\":\n",
    "            return \"Revoked After Approval\"\n",
    "        \n",
    "        elif row['Minister Of Finance Action'] == \"Rejected By Minister Of Finance\" or row['Com Action'] == \"Rejected By Council Of Ministers\":\n",
    "            return \"Revoked After Rejection\"\n",
    "        \n",
    "    elif row['Status'] == 'In process':\n",
    "        return 'In Process'\n",
    "    \n",
    "    elif row['Status'] == 'Not submitted':\n",
    "        return 'Not Submitted'\n",
    "    \n",
    "    elif row['Status'] == 'Revoked':\n",
    "        return 'Revoked'\n",
    "    \n",
    "    elif row['Status'] == 'Rejected':\n",
    "        return 'Rejected'\n",
    "    \n",
    "    elif row['Status'] == 'Approved':\n",
    "        if row['Total Sr Savings'] == 0:\n",
    "            return 'Approved'\n",
    "        else:\n",
    "            return 'Amended'\n",
    "    else:\n",
    "        return np.nan\n",
    "    \n",
    "df_filtered['Final Status'] = df_filtered.apply(final_status, axis=1)"
   ]
  },
  {
   "cell_type": "code",
   "execution_count": null,
   "id": "88057a83",
   "metadata": {},
   "outputs": [],
   "source": [
    "# Add ministry column\n",
    "df_filtered_ministry = pd.merge(df_filtered, au_ministry_data,how='left', on='Entity')\n",
    "#df_filtered_ministry.head(5)\n",
    "df_filtered.iloc[2:4\n",
    "                ]"
   ]
  },
  {
   "cell_type": "code",
   "execution_count": 8,
   "id": "d0429e88",
   "metadata": {},
   "outputs": [
    {
     "data": {
      "text/plain": [
       "0"
      ]
     },
     "execution_count": 8,
     "metadata": {},
     "output_type": "execute_result"
    }
   ],
   "source": [
    "df_filtered['Final Status'].isna().sum()"
   ]
  },
  {
   "cell_type": "markdown",
   "id": "1b2060b9",
   "metadata": {},
   "source": [
    "# Create Table for Graph\n"
   ]
  },
  {
   "cell_type": "code",
   "execution_count": null,
   "id": "ce996cc9",
   "metadata": {},
   "outputs": [],
   "source": [
    "# Filter the original dataframe for Most Recent Action date within the last 90 days\n",
    "recent_actions = df_filtered_ministry[df_filtered_ministry['Most Recent Action'] >= analysis_date - timedelta(days=90)]\n",
    "\n",
    "# Create a new dataframe for status by ministry\n",
    "status_by_ministry = pd.DataFrame(columns=['Ministry', 'Approved', 'Amended', 'Rejected'])\n",
    "\n",
    "# Populate the 'ministry' column with unique ministry names from the original dataframe\n",
    "status_by_ministry['Ministry'] = df_filtered_ministry['Ministry'].unique()\n",
    "\n",
    "# group by 'Ministry' and 'Final Status', and count unique 'Srid' values\n",
    "status_by_ministry = df_filtered_ministry.groupby(['Ministry', 'Final Status'])['Srid'].nunique().reset_index()\n",
    "\n",
    "# pivot table to get the desired structure\n",
    "status_by_ministry = status_by_ministry.pivot(index='Ministry', columns='Final Status', values='Srid').reset_index()\n",
    "\n",
    "# add missing columns with 0 count\n",
    "if 'Approved' not in status_by_ministry.columns:\n",
    "    status_by_ministry['Approved'] = 0\n",
    "if 'Amended' not in status_by_ministry.columns:\n",
    "    status_by_ministry['Amended'] = 0\n",
    "if 'Rejected' not in status_by_ministry.columns:\n",
    "    status_by_ministry['Rejected'] = 0\n",
    "    \n",
    "status_by_ministry['Processed'] = status_by_ministry.apply(lambda row: row.Approved + row.Amended + row.Rejected, axis=1)\n",
    "    \n",
    "# reorder columns\n",
    "status_by_ministry = status_by_ministry[['Ministry', 'Approved', 'Amended', 'Rejected', 'Processed']]\n",
    "\n",
    "status_by_ministry = status_by_ministry.fillna(0)"
   ]
  },
  {
   "cell_type": "code",
   "execution_count": null,
   "id": "6d0a4717",
   "metadata": {},
   "outputs": [],
   "source": [
    "status_by_ministry"
   ]
  },
  {
   "cell_type": "code",
   "execution_count": null,
   "id": "aa6f8a2c",
   "metadata": {},
   "outputs": [],
   "source": [
    "status_by_ministry = status_by_ministry.sort_values(by=['Processed'],ascending=False)\n",
    "status_by_ministry = status_by_ministry.set_index('Ministry')\n",
    "#status_by_ministry = status_by_ministry.reset_index(drop=True)\n",
    "#status_by_ministry.set_index('Ministry')\n",
    "status_by_ministry"
   ]
  },
  {
   "cell_type": "markdown",
   "id": "3e4a1f8b",
   "metadata": {},
   "source": [
    "# Code to make graph\n"
   ]
  },
  {
   "cell_type": "code",
   "execution_count": null,
   "id": "c640f6be",
   "metadata": {},
   "outputs": [],
   "source": [
    "# Set the 'ministry' column as the index\n",
    "\n",
    "\n",
    "colors = ['#a58b4280','#dfd8b880','#3b3a3780']\n",
    "\n",
    "# Create a stacked bar chart\n",
    "status_by_ministry.iloc[:10,:-1].plot(kind='bar', stacked=True, figsize=(10, 6),color=colors)\n",
    "\n",
    "# Set the title and axis labels\n",
    "plt.title('Submitted SRs by Ministry in the Last 90 Days (Top 10)')\n",
    "plt.xlabel('Ministry')\n",
    "plt.ylabel('Number of SRs Submitted')\n",
    "plt.xticks(rotation=0)\n",
    "\n",
    "# Show the plot\n",
    "plt.show()"
   ]
  }
 ],
 "metadata": {
  "kernelspec": {
   "display_name": "Python 3 (ipykernel)",
   "language": "python",
   "name": "python3"
  },
  "language_info": {
   "codemirror_mode": {
    "name": "ipython",
    "version": 3
   },
   "file_extension": ".py",
   "mimetype": "text/x-python",
   "name": "python",
   "nbconvert_exporter": "python",
   "pygments_lexer": "ipython3",
   "version": "3.11.2"
  }
 },
 "nbformat": 4,
 "nbformat_minor": 5
}
